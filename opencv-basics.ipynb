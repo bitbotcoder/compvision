
{
 "cells": [
  {
   "cell_type": "code",
   "execution_count": null,
   "metadata": {},
   "outputs": [],
   "source": [
    "import cv2"
   ]
  },
  {
   "cell_type": "code",
   "execution_count": null,
   "metadata": {},
   "outputs": [],
   "source": [
    "\n",
    "fml = 'haarcascade_frontalface_default.xml' \n",
    "\n",
    "cascade = cv2.CascadeClassifier(fml) \n",
    "\n",
    "cam = cv2.VideoCapture(0) # initialization camera\n",
    "\n",
    "while True:\n",
    "    \n",
    "    _,img = cam.read() # read the frame from the camera\n",
    "    \n",
    "    grayImg = cv2.cvtColor(img,cv2.COLOR_BGR2GRAY) # converting color into gray scale image\n",
    "\n",
    "    face = cascade.detectMultiScale(grayImg) # get coordinates of face\n",
    "\n",
    "    for (x, y, w, h) in face: # segregating x,y,w,h\n",
    "        \n",
    "        cv2.rectangle(img, (x, y), (x + w, y + h),(0,255,0),2) # draw the retangle\n",
    "\n",
    "    cv2.imshow(\"FaceDetect\",img)\n",
    "\n",
    "    key = cv2.waitKey(1)\n",
    "\n",
    "    if key == 81 or key == 113 :\n",
    "        break\n",
    "\n",
    "cam.release()\n",
    "cv2.destroyAllWindows()"
   ]
  }
 ],
 "metadata": {
  "kernelspec": {
   "display_name": "Python 3.9.7 ('menv': venv)",
   "language": "python",
   "name": "python3"
  },
  "language_info": {
   "codemirror_mode": {
    "name": "ipython",
    "version": 3
   },
   "file_extension": ".py",
   "mimetype": "text/x-python",
   "name": "python",
   "nbconvert_exporter": "python",
   "pygments_lexer": "ipython3",
   "version": "3.9.7"
  },
  "orig_nbformat": 4,
  "vscode": {
   "interpreter": {
    "hash": "dc40b1fab2357ec342d4af7943384101a15b6c3cdfae371e30b6eb596a9416ed"
   }
  }
 },
 "nbformat": 4,
 "nbformat_minor": 2
}
